{
 "cells": [
  {
   "cell_type": "markdown",
   "metadata": {
    "deletable": true,
    "editable": true
   },
   "source": [
    "# Example 01\n",
    "\n",
    "This example reproduces the results from Example 1 of from Quast & Wagner (2016)"
   ]
  },
  {
   "cell_type": "markdown",
   "metadata": {
    "deletable": true,
    "editable": true
   },
   "source": [
    "The definition of the volume phase function and surface BRDF is as follows:\n",
    "\n",
    "**Volume definition**\n",
    "\n",
    "* optical depth ($\\tau = 0.7$)\n",
    "* single scattering albedo ($\\omega = 0.3$)\n",
    "* Volume phase function: Rayleigh phase function\n",
    "\n",
    "**Surface definition**\n",
    "\n",
    "* Cosine Lobe function with 10 coefficients"
   ]
  },
  {
   "cell_type": "code",
   "execution_count": 4,
   "metadata": {
    "collapsed": true
   },
   "outputs": [],
   "source": [
    "# imports\n",
    "from rt1.rt1 import RT1 \n",
    "from rt1.volume import Rayleigh   \n",
    "from rt1.surface import CosineLobe "
   ]
  },
  {
   "cell_type": "code",
   "execution_count": 5,
   "metadata": {
    "collapsed": true,
    "deletable": true,
    "editable": true
   },
   "outputs": [],
   "source": [
    "# definition of volume and surface\n",
    "V = Rayleigh(tau=0.7, omega=0.3)\n",
    "SRF = CosineLobe(ncoefs=10, i=5)"
   ]
  },
  {
   "cell_type": "markdown",
   "metadata": {},
   "source": [
    "**Imaging geometry (backscattering case)**"
   ]
  },
  {
   "cell_type": "code",
   "execution_count": 6,
   "metadata": {
    "collapsed": true
   },
   "outputs": [],
   "source": [
    "import numpy as np\n",
    "# Specify imaging geometry\n",
    "inc = np.arange(1.,89.,1.)  # specify incidence angle range [deg]\n",
    "t_0 = np.deg2rad(inc)  # [rad]\n",
    "# scattering angle; here the same as incidence angle, as backscatter\n",
    "t_ex = t_0*1. \n",
    "# azimuth geometry angles\n",
    "p_0 = np.ones_like(inc)*0. \n",
    "p_ex = np.ones_like(inc)*0. + np.pi  # 180 degree shift as backscatter"
   ]
  },
  {
   "cell_type": "markdown",
   "metadata": {},
   "source": [
    "**Perform the simulations**\n",
    "\n",
    "To perform the simulations, the RT model needs to estimate once coefficients. As these are the same for all imaging geometries, it makes sense to estimate these once and then transfer them to the subsequent calls."
   ]
  },
  {
   "cell_type": "code",
   "execution_count": 8,
   "metadata": {
    "collapsed": false
   },
   "outputs": [],
   "source": [
    "# initial call to estimate coefficients (can be also omitted, but performance gets better like so)\n",
    "I0=1.  # set incident intensity\n",
    "R = RT1(I0, 0., 0., 0., 0., RV=V, SRF=SRF, geometry='mono')  \n",
    "fn = R.fn  # store coefficients for faster iteration \n"
   ]
  },
  {
   "cell_type": "code",
   "execution_count": 9,
   "metadata": {
    "collapsed": true
   },
   "outputs": [],
   "source": [
    "# do actual calculations with specifies geometries\n",
    "R = RT1(I0, t_0, t_ex, p_0, p_ex, RV=V, SRF=SRF, fn=fn, geometry='mono')\n",
    "Itot, Isurf, Ivol, Iint = R.calc()"
   ]
  },
  {
   "cell_type": "code",
   "execution_count": null,
   "metadata": {
    "collapsed": true
   },
   "outputs": [],
   "source": [
    "Plot these results"
   ]
  },
  {
   "cell_type": "code",
   "execution_count": 10,
   "metadata": {
    "collapsed": false
   },
   "outputs": [
    {
     "data": {
      "text/plain": [
       "array([ 0.09511944,  0.09431831,  0.09299915,  0.0911856 ,  0.08890987,\n",
       "        0.0862119 ,  0.08313833,  0.07974129,  0.0760771 ,  0.07220482,\n",
       "        0.06818489,  0.06407761,  0.05994185,  0.05583367,  0.05180523,\n",
       "        0.04790374,  0.04417066,  0.04064107,  0.03734327,  0.03429857,\n",
       "        0.03152133,  0.02901914,  0.02679329,  0.02483922,  0.02314732,\n",
       "        0.02170362,  0.02049071,  0.01948856,  0.01867545,  0.01802879,\n",
       "        0.01752588,  0.01714467,  0.01686429,  0.01666555,  0.01653132,\n",
       "        0.01644668,  0.01639908,  0.01637832,  0.01637639,  0.0163873 ,\n",
       "        0.01640684,  0.01643222,  0.01646177,  0.01649461,  0.01653035,\n",
       "        0.01656883,  0.01660989,  0.01665339,  0.01669915,  0.016747  ,\n",
       "        0.01679674,  0.01684817,  0.01690106,  0.0169552 ,  0.01701033,\n",
       "        0.0170662 ,  0.01712256,  0.01717914,  0.01723564,  0.01729179,\n",
       "        0.01734727,  0.01740178,  0.01745499,  0.01750659,  0.01755624,\n",
       "        0.0176036 ,  0.01764836,  0.01769018,  0.01772876,  0.01776381,\n",
       "        0.01779511,  0.01782245,  0.01784571,  0.01786486,  0.01787999,\n",
       "        0.01789129,  0.01789911,  0.01790394,  0.01790638,  0.01790711,\n",
       "        0.01790684,  0.01790618,  0.01790554,  0.01790514,  0.01790498,\n",
       "        0.01790494,  0.01790493,  0.01790493])"
      ]
     },
     "execution_count": 10,
     "metadata": {},
     "output_type": "execute_result"
    }
   ],
   "source": [
    "\n"
   ]
  },
  {
   "cell_type": "code",
   "execution_count": null,
   "metadata": {
    "collapsed": true
   },
   "outputs": [],
   "source": []
  }
 ],
 "metadata": {
  "kernelspec": {
   "display_name": "Python 2",
   "language": "python",
   "name": "python2"
  },
  "language_info": {
   "codemirror_mode": {
    "name": "ipython",
    "version": 2
   },
   "file_extension": ".py",
   "mimetype": "text/x-python",
   "name": "python",
   "nbconvert_exporter": "python",
   "pygments_lexer": "ipython2",
   "version": "2.7.12"
  }
 },
 "nbformat": 4,
 "nbformat_minor": 2
}
