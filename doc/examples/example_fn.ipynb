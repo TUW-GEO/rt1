{
 "cells": [
  {
   "cell_type": "markdown",
   "metadata": {},
   "source": [
    "# Example for calculating the fn-coefficients\n",
    "\n",
    "In the following, a simple example on how to manually evaluate the fn-coefficients is given. \n",
    "The ground is hereby defined as a Lambertian-surface and the covering layer is assumed to consist of Rayleigh-particles. Thus, we have: ($R_0$ hereby denotes the diffuse albedo of the surface)\n",
    "\n",
    "Within the following calculation, the symbols and functions are defined as presented in the Theory-chapter of the documentation.\n",
    "\n",
    "### Definition of the BRDF of the ground surface:\n",
    "\n",
    "- $BRDF(\\theta, \\phi, \\theta_{ex},\\phi_{ex}) = \\frac{R_0}{\\pi}$\n",
    "\n",
    "### Definition of the scattering phase-function of the covering layer:\n",
    "\n",
    "- $p(\\theta, \\phi, \\theta_{ex},\\phi_{ex}) = \\frac{3}{16\\pi} (1+\\cos(\\Theta)^2) \\quad$ with $\\mbox{}\\quad$ $\\cos(\\Theta) = \\cos(\\theta)\\cos(\\theta_{ex}) + \\sin(\\theta)\\sin(\\theta_{ex})\\cos(\\phi - \\phi_{ex})$"
   ]
  },
  {
   "cell_type": "markdown",
   "metadata": {},
   "source": [
    "### Manual Calculation of the fn-coefficients:\n",
    "\n",
    "$INT := \\int_0^{2\\pi} p(\\theta_0, \\phi_0, \\theta,\\phi) * BRDF(\\pi-\\theta, \\phi, \\theta_{ex},\\phi_{ex}) d\\phi $\n",
    "\n",
    "$\\phantom{INT} = \\frac{3 R_0}{16 \\pi^2} \\int_{0}^{2\\pi}  (1+[\\cos(\\theta_0)\\cos(\\theta) + \\sin(\\theta_0)\\sin(\\theta)\\cos(\\phi_0 - \\phi)]^2) d\\phi$\n",
    "\n",
    "$\\phantom{INT} = \\frac{3 R_0}{16 \\pi^2} \\int_0^{2\\pi} (1+ \\mu_0^2 \\mu^2 + 2 \\mu_0 \\mu \\sin(\\theta_0) \\sin(\\theta) \\cos(\\phi_0 - \\phi) + (1-\\mu_0)^2(1-\\mu)^2 \\cos(\\phi_0 - \\phi)^2 d\\phi$\n",
    "\n",
    "\n",
    "where the shorthand-notation $\\mu_x = \\cos(\\theta_x)$ has been introduced.\n",
    "The above integral can now easily be solved by noticing:\n",
    "\n",
    "$\\int_0^{2\\pi} \\cos(\\phi_0 - \\phi)^n d\\phi = \\left\\lbrace \\begin{matrix} 2 \\pi & \\textrm{for } n=0 \\\\ 0 & \\textrm{for } n=1 \\\\ \\pi  & \\textrm{for } n=2 \\end{matrix} \\right.$\n",
    "    \n",
    "Inserting the above solution and using some algebraic manipulations we therefore find:\n",
    "\n",
    "$INT = \\frac{3 R_0}{16\\pi} \\Big[ (3-\\mu_0^2) + (3 \\mu_0 -1) \\mu^2 \\Big] := \\sum_{n=0}^2 f_n \\, \\mu^n $\n",
    "\n",
    "$\\Rightarrow \\quad f_0 = \\frac{3 R_0}{16\\pi}(3-\\mu_0^2) \\qquad f_1 = 0 \\qquad f_2 = \\frac{3 R_0}{16\\pi}(3 \\mu_0 -1) \\qquad f_n = 0 \\, \\forall \\, n>2\n",
    "$"
   ]
  },
  {
   "cell_type": "markdown",
   "metadata": {},
   "source": [
    "## Evaluation of the fn-coefficients using the RT1-module"
   ]
  },
  {
   "cell_type": "code",
   "execution_count": 1,
   "metadata": {
    "collapsed": false
   },
   "outputs": [],
   "source": [
    "# imports\n",
    "from rt1.rt1 import RT1 \n",
    "from rt1.volume import Rayleigh   \n",
    "from rt1.surface import Isotropic \n",
    "\n",
    "\n",
    "import sympy as sp\n",
    "# enable printing sympy equations via latex-equation-rendering\n",
    "sp.init_printing(use_latex='mathjax')"
   ]
  },
  {
   "cell_type": "code",
   "execution_count": 52,
   "metadata": {
    "collapsed": false
   },
   "outputs": [],
   "source": [
    "# definition of volume and surface\n",
    "# (the values of tau and omega have no effect on the calculated fn-coefficients)\n",
    "V = Rayleigh(tau=0.7, omega=0.3)\n",
    "\n",
    "R0 = 1.    # set the diffuse reflectance\n",
    "SRF = Isotropic(NormBRDF=R0)"
   ]
  },
  {
   "cell_type": "code",
   "execution_count": 53,
   "metadata": {
    "collapsed": false
   },
   "outputs": [],
   "source": [
    "I0 = 1.   # set incident intensity\n",
    "R = RT1(I0, 0., 0., 0., 0., RV=V, SRF=SRF, geometry='mono')  \n",
    "# setting geometry='vvvv' ensures that both incident- and scattering-angles \n",
    "# are treated symbolically"
   ]
  },
  {
   "cell_type": "code",
   "execution_count": 54,
   "metadata": {
    "collapsed": false
   },
   "outputs": [],
   "source": [
    "fn = R.fn #calculate fn-coefficients\n",
    "\n",
    "# in order to see that the calculated coefficients are actually equal, we have\n",
    "# to apply some trigonometric simplifications:\n",
    "\n",
    "# apply basic trigonometric simplifications\n",
    "fn = [sp.trigsimp(i) for i in R.fn]\n",
    "# replace appearing sin^2 with 1-cos^2\n",
    "fn = [i.xreplace({sp.sin('theta_0')**2 : 1.-sp.cos('theta_0')**2}) for i in fn] \n",
    "# convert floats to rationals and factor out\n",
    "fn = [i.nsimplify().factor() for i in fn]"
   ]
  },
  {
   "cell_type": "code",
   "execution_count": 55,
   "metadata": {
    "collapsed": false,
    "scrolled": true
   },
   "outputs": [
    {
     "data": {
      "text/latex": [
       "$$\\left [ - \\frac{1}{16 \\pi} \\left(3 \\cos^{2}{\\left (\\theta_{0} \\right )} - 9\\right), \\quad 0, \\quad \\frac{1}{16 \\pi} \\left(9 \\cos^{2}{\\left (\\theta_{0} \\right )} - 3\\right), \\quad 0, \\quad 0\\right ]$$"
      ],
      "text/plain": [
       "⎡   ⎛   2        ⎞        ⎛     2        ⎞      ⎤\n",
       "⎢-3⋅⎝cos (θ₀) - 3⎠      3⋅⎝3⋅cos (θ₀) - 1⎠      ⎥\n",
       "⎢──────────────────, 0, ──────────────────, 0, 0⎥\n",
       "⎣       16⋅π                   16⋅π             ⎦"
      ]
     },
     "execution_count": 55,
     "metadata": {},
     "output_type": "execute_result"
    }
   ],
   "source": [
    "# print calculated fn-coefficients\n",
    "fn"
   ]
  }
 ],
 "metadata": {
  "kernelspec": {
   "display_name": "Python 2",
   "language": "python",
   "name": "python2"
  },
  "language_info": {
   "codemirror_mode": {
    "name": "ipython",
    "version": 2
   },
   "file_extension": ".py",
   "mimetype": "text/x-python",
   "name": "python",
   "nbconvert_exporter": "python",
   "pygments_lexer": "ipython2",
   "version": "2.7.13"
  }
 },
 "nbformat": 4,
 "nbformat_minor": 2
}
